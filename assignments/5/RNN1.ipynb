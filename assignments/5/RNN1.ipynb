{
  "nbformat": 4,
  "nbformat_minor": 0,
  "metadata": {
    "colab": {
      "provenance": [],
      "gpuType": "T4"
    },
    "kernelspec": {
      "name": "python3",
      "display_name": "Python 3"
    },
    "language_info": {
      "name": "python"
    },
    "accelerator": "GPU"
  },
  "cells": [
    {
      "cell_type": "code",
      "execution_count": 45,
      "metadata": {
        "colab": {
          "base_uri": "https://localhost:8080/"
        },
        "id": "9EHHdmhErWfr",
        "outputId": "1a51184b-aac6-4a40-d18d-87d026d89e35"
      },
      "outputs": [
        {
          "output_type": "stream",
          "name": "stdout",
          "text": [
            "Train set: 6999 samples\n",
            "Validation set: 2000 samples\n",
            "Test set: 1001 samples\n"
          ]
        }
      ],
      "source": [
        "import numpy as np\n",
        "import torch\n",
        "import torch.nn as nn\n",
        "import torch.optim as optim\n",
        "from sklearn.model_selection import train_test_split\n",
        "from torch.utils.data import DataLoader, Dataset\n",
        "from tqdm import tqdm\n",
        "def generate_data(num_sequences, min_length, max_length):\n",
        "    sequences = []\n",
        "    counts = []\n",
        "    lengths = []\n",
        "    for _ in range(num_sequences):\n",
        "        length = np.random.randint(min_length, max_length + 1)\n",
        "        sequence = np.random.randint(0, 2, length).tolist()\n",
        "        count_ones = sum(sequence)\n",
        "        sequences.append(sequence)\n",
        "        counts.append(count_ones)\n",
        "        lengths.append(length)\n",
        "    return sequences, counts, lengths\n",
        "\n",
        "# Hyperparameters\n",
        "NUM_SEQUENCES = 10000\n",
        "MIN_LENGTH = 1\n",
        "MAX_LENGTH = 16\n",
        "VAL_RATIO = 0.2\n",
        "TEST_RATIO = 0.1\n",
        "\n",
        "# Generate the dataset\n",
        "sequences, counts, lengths = generate_data(NUM_SEQUENCES, MIN_LENGTH, MAX_LENGTH)\n",
        "train_seqs, temp_seqs, train_counts, temp_counts, train_lengths, temp_lengths = train_test_split(\n",
        "    sequences, counts, lengths, test_size=VAL_RATIO + TEST_RATIO, random_state=42\n",
        ")\n",
        "\n",
        "val_seqs, test_seqs, val_counts, test_counts, val_lengths, test_lengths = train_test_split(\n",
        "    temp_seqs, temp_counts, temp_lengths, test_size=TEST_RATIO / (VAL_RATIO + TEST_RATIO), random_state=42\n",
        ")\n",
        "\n",
        "print(f\"Train set: {len(train_seqs)} samples\")\n",
        "print(f\"Validation set: {len(val_seqs)} samples\")\n",
        "print(f\"Test set: {len(test_seqs)} samples\")\n"
      ]
    },
    {
      "cell_type": "code",
      "source": [
        "print(\"Seqs:\")\n",
        "print(train_seqs[:5])\n",
        "print(\"Labels:\")\n",
        "print(train_counts[:5])\n",
        "print(train_lengths[:5])\n"
      ],
      "metadata": {
        "colab": {
          "base_uri": "https://localhost:8080/"
        },
        "id": "xC0dSu4Wrbxi",
        "outputId": "f718e2fe-063f-4cb7-c198-5981661882f5"
      },
      "execution_count": 46,
      "outputs": [
        {
          "output_type": "stream",
          "name": "stdout",
          "text": [
            "Seqs:\n",
            "[[1, 1, 1, 0, 0, 1], [1, 0, 0, 1, 1, 0, 1, 1, 0, 1, 0, 0, 1, 1, 1, 0], [1, 0, 0, 0, 0, 0, 1, 0, 1, 0, 1, 1, 0, 0], [0, 0, 0, 0, 1, 1, 0, 0, 1, 1, 1, 0, 0, 1, 0], [1, 0, 0, 1, 0, 1, 0, 1, 0, 0, 1, 0, 0]]\n",
            "Labels:\n",
            "[4, 9, 5, 6, 5]\n",
            "[6, 16, 14, 15, 13]\n"
          ]
        }
      ]
    },
    {
      "cell_type": "code",
      "source": [
        "# def pad_sequences(sequences, max_length):\n",
        "#     padded = np.zeros((len(sequences), max_length))\n",
        "#     for i, seq in enumerate(sequences):\n",
        "#         padded[i, :len(seq)] = seq\n",
        "#     return padded\n",
        "\n",
        "# # Find the maximum sequence length for padding\n",
        "# max_length = max([len(seq) for seq in sequences])\n",
        "\n",
        "# # # Padding sequences\n",
        "# train_seqs = pad_sequences(train_seqs, max_length)\n",
        "# val_seqs = pad_sequences(val_seqs, max_length)\n",
        "# test_seqs = pad_sequences(test_seqs, max_length)\n",
        "# def collate_fn(batch):\n",
        "#     sequences, counts = zip(*batch)\n",
        "#     lengths = [len(seq) for seq in sequences]\n",
        "#     max_length = max(lengths)\n",
        "#     padded_sequences = pad_sequences(sequences, max_length)\n",
        "#     return torch.tensor(padded_sequences, dtype=torch.float32), torch.tensor(counts, dtype=torch.float32)\n",
        "\n",
        "# Convert to PyTorch tensors\n",
        "class BitSequenceDataset(Dataset):\n",
        "    def __init__(self, sequences, labels):\n",
        "        self.sequences = sequences\n",
        "        self.labels = labels\n",
        "\n",
        "    def __len__(self):\n",
        "        return len(self.sequences)\n",
        "\n",
        "    def __getitem__(self, idx):\n",
        "        sequence = self.sequences[idx]\n",
        "        label = self.labels[idx]\n",
        "        return torch.tensor(sequence, dtype=torch.float32), torch.tensor(label, dtype=torch.float32)\n",
        "\n",
        "train_dataset = BitSequenceDataset(train_seqs, train_counts)\n",
        "val_dataset = BitSequenceDataset(val_seqs, val_counts)\n",
        "test_dataset = BitSequenceDataset(test_seqs, test_counts)\n",
        "\n",
        "batch_size = 1\n",
        "\n",
        "train_loader = DataLoader(train_dataset, batch_size=batch_size, shuffle=True)\n",
        "val_loader = DataLoader(val_dataset, batch_size=batch_size)\n",
        "test_loader = DataLoader(test_dataset, batch_size=batch_size)\n"
      ],
      "metadata": {
        "id": "0jZMc006rhQN"
      },
      "execution_count": 56,
      "outputs": []
    },
    {
      "cell_type": "code",
      "source": [
        "import torch.nn as nn\n",
        "\n",
        "class BitCounterRNN(nn.Module):\n",
        "    def __init__(self, input_size=1, hidden_size=32, num_layers=2, dropout=0.3):\n",
        "        super(BitCounterRNN, self).__init__()\n",
        "        self.rnn = nn.RNN(input_size, hidden_size, num_layers, batch_first=True, dropout=dropout)\n",
        "        # self.batch_norm = nn.BatchNorm1d(hidden_size)\n",
        "        self.fc = nn.Linear(hidden_size, 1)\n",
        "\n",
        "    def forward(self, x):\n",
        "        x = x.unsqueeze(-1)  # Add feature dimension\n",
        "        output, hidden = self.rnn(x)\n",
        "        last_output = output[:, -1, :]  # Get the last output state\n",
        "        # Apply batch normalization\n",
        "        # last_output = self.batch_norm(last_output)\n",
        "        count_output = self.fc(last_output).squeeze(-1)\n",
        "        return count_output\n",
        "# Model Hyperparameters\n",
        "# Model Hyperparameters\n",
        "input_size = 1\n",
        "hidden_size = 64\n",
        "num_layers = 2\n",
        "dropout = 0.3\n",
        "# Initialize the BitCounterRNN model\n",
        "model = BitCounterRNN(input_size=input_size, hidden_size=hidden_size, num_layers=num_layers, dropout=dropout)\n",
        "\n",
        "# Move the model to the device\n",
        "device = torch.device('cuda' if torch.cuda.is_available() else 'cpu')\n",
        "model.to(device)\n",
        "\n",
        "# Loss function and optimizer\n",
        "criterion = nn.L1Loss()  # Mean Absolute Error (MAE)\n",
        "optimizer = optim.Adam(model.parameters(), lr=0.00001)\n",
        "\n"
      ],
      "metadata": {
        "id": "kmwJAeA4rn0s"
      },
      "execution_count": 58,
      "outputs": []
    },
    {
      "cell_type": "code",
      "source": [
        "# def train_model(model, train_loader, val_loader, criterion, optimizer, num_epochs):\n",
        "#     model.train()\n",
        "#     for epoch in range(num_epochs):\n",
        "#         train_loss = 0\n",
        "#         for sequences, labels in train_loader:\n",
        "#             device = torch.device('cuda' if torch.cuda.is_available() else 'cpu')\n",
        "#             sequences, labels = sequences.to(device), labels.to(device)\n",
        "#             optimizer.zero_grad()\n",
        "#             predictions = model(sequences)\n",
        "#             loss = criterion(predictions, counts)\n",
        "#             loss.backward()\n",
        "#             optimizer.step()\n",
        "#             train_loss += loss.item()\n",
        "\n",
        "#         # Validation\n",
        "#         model.eval()\n",
        "#         val_loss = 0\n",
        "#         val_mae = 0\n",
        "#         with torch.no_grad():\n",
        "#             for sequences, counts in val_loader:\n",
        "#                 predictions = model(sequences)\n",
        "#                 loss = criterion(predictions, counts)\n",
        "#                 val_loss += loss.item()\n",
        "\n",
        "#                 # Calculate MAE\n",
        "#                 mae = nn.L1Loss()(predictions, counts)\n",
        "#                 val_mae += mae.item()\n",
        "\n",
        "#         train_loss /= len(train_loader)\n",
        "#         val_loss /= len(val_loader)\n",
        "#         val_mae /= len(val_loader)\n",
        "\n",
        "#         print(f\"Epoch {epoch+1}/{num_epochs}, Train Loss: {train_loss:.4f}, Val Loss: {val_loss:.4f}, Val MAE: {val_mae:.4f}\")\n",
        "def train_model(model, train_loader, val_loader, criterion, optimizer, epochs=10, device=None):\n",
        "\n",
        "    if device is None:\n",
        "        device = torch.device('cuda' if torch.cuda.is_available() else 'cpu')\n",
        "\n",
        "    print(f\"Training on {device}.\")\n",
        "\n",
        "    model.to(device)\n",
        "\n",
        "    for epoch in range(epochs):\n",
        "        # Training loop\n",
        "        model.train()\n",
        "        running_loss = 0.0\n",
        "        correct_pred = 0\n",
        "        for sequences, labels in train_loader:\n",
        "            sequences, labels = sequences.to(device), labels.to(device)\n",
        "\n",
        "            # Zero the gradients\n",
        "            optimizer.zero_grad()\n",
        "\n",
        "            # Forward pass\n",
        "            outputs = model(sequences)\n",
        "\n",
        "            # Compute loss\n",
        "            loss = criterion(outputs, labels)\n",
        "\n",
        "            # Backward pass and optimization\n",
        "            loss.backward()\n",
        "            optimizer.step()\n",
        "\n",
        "            running_loss += loss.item() * sequences.size(0)\n",
        "\n",
        "            # Calculate the number of correct predictions\n",
        "            correct_pred += torch.sum(torch.round(outputs) == labels).item()\n",
        "\n",
        "        # Calculate the average training loss\n",
        "        train_loss = running_loss / len(train_loader.dataset)\n",
        "        train_acc = correct_pred / len(train_loader.dataset)\n",
        "\n",
        "        # Validation loop\n",
        "        model.eval()\n",
        "        val_loss = 0.0\n",
        "        val_correct_pred = 0\n",
        "        with torch.no_grad():\n",
        "            for sequences, labels in val_loader:\n",
        "                sequences, labels = sequences.to(device), labels.to(device)\n",
        "\n",
        "                # Forward pass\n",
        "                outputs = model(sequences)\n",
        "\n",
        "                # Compute loss\n",
        "                loss = criterion(outputs, labels)\n",
        "                val_loss += loss.item() * sequences.size(0)\n",
        "\n",
        "                # Calculate the number of correct predictions\n",
        "                val_correct_pred += torch.sum(torch.round(outputs) == labels).item()\n",
        "\n",
        "        # Calculate the average validation loss and MAE\n",
        "        val_loss /= len(val_loader.dataset)\n",
        "        val_acc = val_correct_pred / len(val_loader.dataset)\n",
        "\n",
        "        # Print training and validation results\n",
        "        print(f\"Epoch {epoch + 1}/{epochs}, Train Loss: {train_loss:.4f}, Val Loss: {val_loss:.4f}\")\n",
        "    print(f\"Train Accuracy: {train_acc:.4f}\")\n",
        "    print(f\"Validation Accuracy: {val_acc:.4f}\")\n",
        "    return model\n",
        "\n",
        "num_epochs = 10\n",
        "trained_model = train_model(model, train_loader, val_loader, criterion, optimizer, num_epochs)\n"
      ],
      "metadata": {
        "colab": {
          "base_uri": "https://localhost:8080/"
        },
        "id": "e4U21npOrtHK",
        "outputId": "424f1f01-373f-4875-8892-af666ee059c7"
      },
      "execution_count": 60,
      "outputs": [
        {
          "output_type": "stream",
          "name": "stdout",
          "text": [
            "Training on cuda.\n",
            "Epoch 1/10, Train Loss: 0.5406\n",
            "Epoch 2/10, Train Loss: 0.4612\n",
            "Epoch 3/10, Train Loss: 0.4075\n",
            "Epoch 4/10, Train Loss: 0.3657\n",
            "Epoch 5/10, Train Loss: 0.3380\n",
            "Epoch 6/10, Train Loss: 0.3139\n",
            "Epoch 7/10, Train Loss: 0.2928\n",
            "Epoch 8/10, Train Loss: 0.2781\n",
            "Epoch 9/10, Train Loss: 0.2615\n",
            "Epoch 10/10, Train Loss: 0.2466\n",
            "Train Accuracy: 0.8998\n",
            "Validation Accuracy: 0.9515\n"
          ]
        }
      ]
    },
    {
      "cell_type": "code",
      "source": [
        "def evaluate_model(model, test_loader, criterion, device):\n",
        "    model.to(device)  # Move model to the correct device (GPU or CPU)\n",
        "\n",
        "    model.eval()\n",
        "    test_loss = 0\n",
        "    with torch.no_grad():\n",
        "        for sequences, counts in test_loader:\n",
        "            # Move input data to the same device as the model\n",
        "            sequences, counts = sequences.to(device), counts.to(device)\n",
        "\n",
        "            # Get predictions\n",
        "            predictions = model(sequences)\n",
        "\n",
        "            # Compute loss\n",
        "            loss = criterion(predictions, counts)\n",
        "            test_loss += loss.item()\n",
        "\n",
        "    test_loss /= len(test_loader)\n",
        "    print(f\"Test Loss (MAE): {test_loss:.4f}\")\n",
        "\n",
        "# Evaluate the model\n",
        "device = torch.device('cuda' if torch.cuda.is_available() else 'cpu')\n",
        "evaluate_model(model, test_loader, criterion, device)\n"
      ],
      "metadata": {
        "colab": {
          "base_uri": "https://localhost:8080/"
        },
        "id": "C-FKY3Csrw37",
        "outputId": "9a5fedde-c09a-48ec-a6dd-6cd5e8e7fa02"
      },
      "execution_count": 63,
      "outputs": [
        {
          "output_type": "stream",
          "name": "stdout",
          "text": [
            "Test Loss (MAE): 0.1533\n"
          ]
        }
      ]
    },
    {
      "cell_type": "code",
      "source": [
        "def random_baseline(test_counts):\n",
        "    # Convert the basic list to a PyTorch tensor\n",
        "    test_counts_tensor = torch.tensor(test_counts, dtype=torch.float32)\n",
        "\n",
        "    # Get the minimum and maximum count values\n",
        "    min_count = int(min(test_counts_tensor).item())\n",
        "    max_count = int(max(test_counts_tensor).item())\n",
        "\n",
        "    # Create random baseline predictions in the range [min_count, max_count]\n",
        "    baseline_predictions = torch.randint(min_count, max_count + 1, test_counts_tensor.size(), dtype=torch.float32)\n",
        "\n",
        "    # Compute the Mean Absolute Error (MAE)\n",
        "    mae = nn.L1Loss()(baseline_predictions, test_counts_tensor)\n",
        "    print(f\"Random Baseline MAE: {mae:.4f}\")\n",
        "\n",
        "\n",
        "\n",
        "# Compare with random baseline\n",
        "random_baseline(test_counts)\n"
      ],
      "metadata": {
        "colab": {
          "base_uri": "https://localhost:8080/"
        },
        "id": "g_iskakpryqo",
        "outputId": "e1147e2e-886c-4c67-9057-9f9bfe706f5a"
      },
      "execution_count": 68,
      "outputs": [
        {
          "output_type": "stream",
          "name": "stdout",
          "text": [
            "Random Baseline MAE: 4.0649\n"
          ]
        }
      ]
    },
    {
      "cell_type": "code",
      "source": [
        "def predict_samples(model, sequences, counts, num_samples=5, device=None):\n",
        "    if device is None:\n",
        "        device = torch.device('cuda' if torch.cuda.is_available() else 'cpu')\n",
        "\n",
        "    model.to(device)  # Move model to the correct device\n",
        "\n",
        "    model.eval()\n",
        "    with torch.no_grad():\n",
        "        for i in range(num_samples):\n",
        "            # Select the sequence from the list\n",
        "            input_seq = sequences[i]\n",
        "            true_count = counts[i]\n",
        "\n",
        "            # Convert input sequence to a tensor and move it to the same device as the model\n",
        "            input_seq_tensor = torch.tensor(input_seq, dtype=torch.float32).unsqueeze(0).to(device)  # Add batch dimension and move to device\n",
        "\n",
        "            # Get model prediction\n",
        "            predicted_count = model(input_seq_tensor).item()\n",
        "\n",
        "            # Print the input sequence, true count, and predicted count\n",
        "            input_str = ''.join(map(str, input_seq))  # Convert to string for easy printing\n",
        "            print(f\"Sequence: {input_str}\")\n",
        "            print(f\"True Count of '1's: {true_count}\")\n",
        "            print(f\"Predicted Count of '1's: {predicted_count:.2f}\")\n",
        "            print(\"-\" * 50)\n",
        "\n",
        "\n",
        "predict_samples(model, test_seqs, test_counts, num_samples=5)\n"
      ],
      "metadata": {
        "colab": {
          "base_uri": "https://localhost:8080/"
        },
        "id": "z1f1wnxLr0Dg",
        "outputId": "6b6e1755-5002-4a7c-8167-b9206adea358"
      },
      "execution_count": 72,
      "outputs": [
        {
          "output_type": "stream",
          "name": "stdout",
          "text": [
            "Sequence: 01111111011010\n",
            "True Count of '1's: 10\n",
            "Predicted Count of '1's: 9.07\n",
            "--------------------------------------------------\n",
            "Sequence: 0100011000010100\n",
            "True Count of '1's: 5\n",
            "Predicted Count of '1's: 5.01\n",
            "--------------------------------------------------\n",
            "Sequence: 01011\n",
            "True Count of '1's: 3\n",
            "Predicted Count of '1's: 3.00\n",
            "--------------------------------------------------\n",
            "Sequence: 1110011\n",
            "True Count of '1's: 5\n",
            "Predicted Count of '1's: 4.94\n",
            "--------------------------------------------------\n",
            "Sequence: 1010111110110100\n",
            "True Count of '1's: 10\n",
            "Predicted Count of '1's: 9.11\n",
            "--------------------------------------------------\n"
          ]
        }
      ]
    },
    {
      "cell_type": "code",
      "source": [
        "def generate_ood_data(num_sequences=1000, min_length=1, max_length=32):\n",
        "    sequences = []\n",
        "    counts = []\n",
        "    lengths = []\n",
        "    for _ in range(num_sequences):\n",
        "        length = np.random.randint(min_length, max_length + 1)\n",
        "        sequence = np.random.randint(0, 2, length).tolist()\n",
        "        count_ones = sum(sequence)\n",
        "        sequences.append(sequence)\n",
        "        counts.append(count_ones)\n",
        "        lengths.append(length)\n",
        "    return sequences, counts, lengths\n",
        "\n",
        "# Generate OOD data with sequence lengths from 1 to 32\n",
        "ood_sequences, ood_counts, ood_lengths = generate_ood_data(num_sequences=1000, min_length=1, max_length=32)\n"
      ],
      "metadata": {
        "id": "GuAdsrb1r1j5"
      },
      "execution_count": 73,
      "outputs": []
    },
    {
      "cell_type": "code",
      "source": [
        "import torch\n",
        "import numpy as np\n",
        "\n",
        "def evaluate_ood_model(model, sequences, counts, lengths, device):\n",
        "    mae_per_length = {length: [] for length in range(1, 33)}  # Store MAE for each sequence length\n",
        "\n",
        "    model.to(device)  # Ensure the model is on the correct device\n",
        "    model.eval()\n",
        "\n",
        "    with torch.no_grad():\n",
        "        for seq, count, length in zip(sequences, counts, lengths):\n",
        "            input_seq = torch.tensor(seq).unsqueeze(0).float().to(device)  # Move input_seq to the correct device\n",
        "            true_count = torch.tensor(count).float().to(device)  # Move true_count to the correct device\n",
        "            predicted_count = model(input_seq).float()\n",
        "\n",
        "            mae = abs(predicted_count - true_count).item()\n",
        "            mae_per_length[length].append(mae)\n",
        "\n",
        "    # Calculate average MAE for each sequence length\n",
        "    avg_mae_per_length = {length: np.mean(mae_per_length[length]) for length in mae_per_length}\n",
        "    return avg_mae_per_length\n",
        "\n",
        "# Evaluate the model on OOD data for sequences from 1 to 32\n",
        "device = torch.device('cuda' if torch.cuda.is_available() else 'cpu')\n",
        "mae_per_length = evaluate_ood_model(model, ood_sequences, ood_counts, ood_lengths, device)\n"
      ],
      "metadata": {
        "id": "6MuKLAMVr3Cq"
      },
      "execution_count": 75,
      "outputs": []
    },
    {
      "cell_type": "code",
      "source": [
        "import matplotlib.pyplot as plt\n",
        "for i in mae_per_length:\n",
        "  print(\"MAE for\",i,\":\",mae_per_length[i])\n",
        "# Plotting the results\n",
        "sequence_lengths = list(mae_per_length.keys())\n",
        "mae_values = list(mae_per_length.values())\n",
        "\n",
        "plt.figure(figsize=(10, 6))\n",
        "plt.plot(sequence_lengths, mae_values, marker='o', linestyle='-', color='b')\n",
        "plt.xlabel('Sequence Length')\n",
        "plt.ylabel('Mean Absolute Error (MAE)')\n",
        "plt.title('Model Performance on OOD Data (MAE vs. Sequence Length)')\n",
        "plt.grid(True)\n",
        "plt.show()\n"
      ],
      "metadata": {
        "colab": {
          "base_uri": "https://localhost:8080/",
          "height": 1000
        },
        "id": "uJfNPaiyr4tE",
        "outputId": "2b70b51b-8171-4357-d6fc-e65fb8b171eb"
      },
      "execution_count": 77,
      "outputs": [
        {
          "output_type": "stream",
          "name": "stdout",
          "text": [
            "MAE for 1 : 0.06789332109948863\n",
            "MAE for 2 : 0.10559158855014378\n",
            "MAE for 3 : 0.0747309614110876\n",
            "MAE for 4 : 0.05130770188920638\n",
            "MAE for 5 : 0.0453101108814108\n",
            "MAE for 6 : 0.038671918489314894\n",
            "MAE for 7 : 0.04176953504251879\n",
            "MAE for 8 : 0.05908913381638065\n",
            "MAE for 9 : 0.07266819477081299\n",
            "MAE for 10 : 0.09784564827427719\n",
            "MAE for 11 : 0.12768086310355894\n",
            "MAE for 12 : 0.16045532101079038\n",
            "MAE for 13 : 0.24593603199925915\n",
            "MAE for 14 : 0.2848481759428978\n",
            "MAE for 15 : 0.3489841034537868\n",
            "MAE for 16 : 0.44641300042470294\n",
            "MAE for 17 : 0.6359830452845647\n",
            "MAE for 18 : 1.0406629592180252\n",
            "MAE for 19 : 0.8134410564716046\n",
            "MAE for 20 : 1.2991863985856373\n",
            "MAE for 21 : 1.677667524503625\n",
            "MAE for 22 : 1.9556907127643455\n",
            "MAE for 23 : 1.8833245573372677\n",
            "MAE for 24 : 2.5730552351152576\n",
            "MAE for 25 : 2.9009638199439416\n",
            "MAE for 26 : 3.10940404560255\n",
            "MAE for 27 : 3.2857285290956497\n",
            "MAE for 28 : 4.311387957948627\n",
            "MAE for 29 : 4.154686553137643\n",
            "MAE for 30 : 4.650559569850112\n",
            "MAE for 31 : 5.000034173329671\n",
            "MAE for 32 : 5.119955221811931\n"
          ]
        },
        {
          "output_type": "display_data",
          "data": {
            "text/plain": [
              "<Figure size 1000x600 with 1 Axes>"
            ],
            "image/png": "[encoded data removed]"
          },
          "metadata": {}
        }
      ]
    },
    {
      "cell_type": "code",
      "source": [],
      "metadata": {
        "id": "5obxSctU4rkG"
      },
      "execution_count": null,
      "outputs": []
    }
  ]
}